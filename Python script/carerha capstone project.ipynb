{
  "nbformat": 4,
  "nbformat_minor": 0,
  "metadata": {
    "colab": {
      "private_outputs": true,
      "provenance": []
    },
    "kernelspec": {
      "name": "python3",
      "display_name": "Python 3"
    },
    "language_info": {
      "name": "python"
    }
  },
  "cells": [
    {
      "cell_type": "code",
      "source": [
        "\n",
        "import pandas as pd\n",
        "import matplotlib.pyplot as plt\n",
        "import seaborn as sns\n",
        "\n",
        "file_path = ('/content/final_data.csv')\n",
        "df = pd.read_csv(file_path)\n",
        "df.head()\n",
        "\n"
      ],
      "metadata": {
        "collapsed": true,
        "id": "N3P9B7_ZIDvc"
      },
      "execution_count": null,
      "outputs": []
    },
    {
      "cell_type": "markdown",
      "source": [
        "DATA CLEANING"
      ],
      "metadata": {
        "id": "HRwxfd9QOImO"
      }
    },
    {
      "cell_type": "code",
      "source": [
        "# Check for missing values and fill them\n",
        "df.isnull().sum()\n",
        "df = df.dropna()\n",
        "print(df.isnull().sum())\n",
        "print(df.info())\n",
        "print(df.head())\n",
        "\n",
        "# Convert relevant columns to numeric\n",
        "df['QUANTITYORDERED'] = pd.to_numeric(df['QUANTITYORDERED'], errors='coerce')\n",
        "df['PRICEEACH'] = pd.to_numeric(df['PRICEEACH'], errors='coerce')\n",
        "print(df.info())\n",
        "\n",
        "\n"
      ],
      "metadata": {
        "id": "rFv8P7iWOLes"
      },
      "execution_count": null,
      "outputs": []
    },
    {
      "cell_type": "markdown",
      "source": [
        "DATA ANALYSIS"
      ],
      "metadata": {
        "id": "E133_Ta8R8_G"
      }
    },
    {
      "cell_type": "code",
      "source": [
        "# Standardize date format\n",
        "df['ORDERDATE'] = pd.to_datetime(df['ORDERDATE'])\n",
        "print(df.head())\n",
        "\n",
        "\n",
        "# Combine product Categories\n",
        "df['PRODUCTLINE'] = df['PRODUCTLINE'].str.lower().str.strip()\n",
        "print(df['PRODUCTLINE'].unique())\n",
        "\n",
        "\n",
        "# total spending calculation and defining customer segments\n",
        "customer_segments = df.groupby('CUSTOMERNAME').agg({\n",
        "    'QUANTITYORDERED': 'sum',\n",
        "    'PRICEEACH': 'sum'\n",
        "}).reset_index()\n",
        "\n",
        "customer_segments['TOTAL_SPENDING'] = customer_segments['QUANTITYORDERED'] * customer_segments['PRICEEACH']\n",
        "customer_segments['SEGMENT'] = pd.cut(customer_segments['TOTAL_SPENDING'], bins=3, labels=['Low-Value', 'Mid-Value', 'High-Value'])\n",
        "print(customer_segments)\n",
        "\n",
        "\n",
        "# monthly trends analysis\n",
        "df['MONTH'] = df['ORDERDATE'].dt.to_period('M')\n",
        "monthly_trends = df.groupby('MONTH')['QUANTITYORDERED'].sum().reset_index()\n",
        "monthly_trends['MONTH'] = monthly_trends['MONTH'].astype(str)\n",
        "print(monthly_trends)\n"
      ],
      "metadata": {
        "id": "N25Tz4bYSAf-"
      },
      "execution_count": null,
      "outputs": []
    },
    {
      "cell_type": "code",
      "source": [
        "# Customer segmentation based on purchase frequency and total spending\n",
        "customer_data = df.groupby('CUSTOMERNAME').agg({\n",
        "    'ORDERNUMBER': 'count',\n",
        "    'QUANTITYORDERED': 'sum'\n",
        "})\n",
        "customer_data.columns = ['PurchaseFrequency', 'TotalSpending']\n",
        "print(customer_data.head())\n"
      ],
      "metadata": {
        "id": "Lt5H9OB3SpJ8"
      },
      "execution_count": null,
      "outputs": []
    },
    {
      "cell_type": "code",
      "source": [],
      "metadata": {
        "id": "p4_g3jqtpKyT"
      },
      "execution_count": null,
      "outputs": []
    },
    {
      "cell_type": "code",
      "source": [
        "#Customer Lifetime Value (CLTV) Calculation\n",
        "#cltv = total_revenue / num_customers\n",
        "\n",
        "customer_revenue = df.groupby('CUSTOMERNAME')['SALES'].sum().reset_index()\n",
        "\n",
        "total_revenue = customer_revenue['SALES'].sum()\n",
        "num_customers = customer_revenue['CUSTOMERNAME'].nunique()\n",
        "cltv = total_revenue / num_customers\n",
        "\n",
        "print(f\"Total Revenue: ${total_revenue:,.2f}\")\n",
        "print(f\"Number of Customers: {num_customers}\")\n",
        "print(f\"Customer Lifetime Value (CLTV): ${cltv:,.2f}\")"
      ],
      "metadata": {
        "id": "0qPr6lEOTxWj"
      },
      "execution_count": null,
      "outputs": []
    },
    {
      "cell_type": "markdown",
      "source": [
        "VISUALIZATION"
      ],
      "metadata": {
        "id": "qZRHg5Qopg_8"
      }
    },
    {
      "cell_type": "code",
      "source": [
        "# Monthly Trends (by quantity)\n",
        "plt.figure(figsize=(14, 7))\n",
        "sns.lineplot(data=monthly_trends, x='MONTH', y='QUANTITYORDERED')\n",
        "plt.title('Monthly Trends of Quantity Ordered')\n",
        "plt.xlabel('Month')\n",
        "plt.ylabel('Quantity Ordered')\n",
        "plt.xticks(rotation=45)\n",
        "plt.show()"
      ],
      "metadata": {
        "id": "hKjzDbJNpkZz"
      },
      "execution_count": null,
      "outputs": []
    },
    {
      "cell_type": "code",
      "source": [
        "# Monthly Sales\n",
        "plt.figure(figsize=(14, 7))\n",
        "sns.barplot(df, x='MONTH', y='SALES')\n",
        "plt.title('Monthly Sales')\n",
        "plt.xlabel('Month')\n",
        "plt.ylabel('Sales')\n",
        "plt.xticks(rotation=45)\n",
        "plt.tight_layout()\n",
        "plt.show()"
      ],
      "metadata": {
        "id": "k0sXA0RoqBnz"
      },
      "execution_count": null,
      "outputs": []
    },
    {
      "cell_type": "code",
      "source": [
        "# Customer Segmentation Pie Chart\n",
        "plt.figure(figsize=(10, 6))\n",
        "df['PRODUCTLINE'].value_counts().plot(kind='pie', autopct='%1.1f%%')\n",
        "plt.title('PRODUCT CATEGORY')\n",
        "plt.axis('equal')\n",
        "plt.show()\n"
      ],
      "metadata": {
        "id": "p-VDwcfqsIH9"
      },
      "execution_count": null,
      "outputs": []
    },
    {
      "cell_type": "code",
      "source": [
        "# Total Revenue by Customer\n",
        "plt.figure(figsize=(10, 6))\n",
        "sns.barplot(x='SALES', y='CUSTOMERNAME', data=customer_revenue.sort_values('SALES', ascending=False).head(10))\n",
        "plt.title('Top 10 Customers by Total Revenue')\n",
        "plt.xlabel('Total Revenue')\n",
        "plt.ylabel('Customer Name')\n",
        "plt.show()"
      ],
      "metadata": {
        "id": "2Ch1Kb6ZwFkg"
      },
      "execution_count": null,
      "outputs": []
    },
    {
      "cell_type": "code",
      "source": [
        "# Monthly Sales Trend\n",
        "df['Month'] = df['ORDERDATE'].dt.to_period('M')\n",
        "monthly_sales = df.groupby('Month')['SALES'].sum().reset_index()\n",
        "monthly_sales['Month'] = monthly_sales['Month'].astype(str)\n",
        "\n",
        "plt.figure(figsize=(14, 7))\n",
        "sns.lineplot(x='Month', y='SALES', data=monthly_sales)\n",
        "plt.title('Monthly Sales Trend')\n",
        "plt.xlabel('Month')\n",
        "plt.ylabel('Total Sales')\n",
        "plt.xticks(rotation=45)\n",
        "plt.show()"
      ],
      "metadata": {
        "id": "rWaC4KpKwdU7"
      },
      "execution_count": null,
      "outputs": []
    },
    {
      "cell_type": "code",
      "source": [
        "# Sales Distribution by Product Line\n",
        "plt.figure(figsize=(14, 7))\n",
        "sns.barplot(x='COUNTRY', y='SALES', data=df)\n",
        "plt.title('Sales Distribution by Country')\n",
        "plt.xlabel('Country')\n",
        "plt.ylabel('Sales')\n",
        "plt.xticks(rotation=45)\n",
        "plt.show()\n"
      ],
      "metadata": {
        "id": "WZLqIYQrw7xz"
      },
      "execution_count": null,
      "outputs": []
    }
  ]
}